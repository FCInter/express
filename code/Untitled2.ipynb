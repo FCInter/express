{
 "cells": [
  {
   "cell_type": "code",
   "execution_count": 2,
   "metadata": {
    "collapsed": false
   },
   "outputs": [
    {
     "name": "stdout",
     "output_type": "stream",
     "text": [
      "<type 'list'>\n"
     ]
    }
   ],
   "source": [
    "import csv\n",
    "from copy import copy\n",
    "import os\n",
    "from math import asin,acos,atan,sqrt,sin,cos,tan,pi\n",
    "import classes\n",
    "from datetime import datetime\n",
    "import time\n",
    "from classes import *\n",
    "from tools import *\n",
    "from load import *\n",
    "import networkx as nx\n",
    "import itertools\n",
    "CAPACITY = 140\n",
    "[ls_site,ls_spot,ls_shop,ls_dorder,ls_otoorder,ls_courier] = LoadAll()\n",
    "num_dorder = len(ls_dorder)\n",
    "total_worker = 0\n",
    "cost = 0\n",
    "istart = 32\n",
    "iend = 33\n",
    "print type(ls_site)"
   ]
  }
 ],
 "metadata": {
  "kernelspec": {
   "display_name": "Python [Root]",
   "language": "python",
   "name": "Python [Root]"
  },
  "language_info": {
   "codemirror_mode": {
    "name": "ipython",
    "version": 2
   },
   "file_extension": ".py",
   "mimetype": "text/x-python",
   "name": "python",
   "nbconvert_exporter": "python",
   "pygments_lexer": "ipython2",
   "version": "2.7.12"
  }
 },
 "nbformat": 4,
 "nbformat_minor": 0
}
