{
 "cells": [
  {
   "cell_type": "code",
   "execution_count": null,
   "metadata": {
    "collapsed": true
   },
   "outputs": [],
   "source": [
    "import csv\n",
    "from copy import copy\n",
    "import os\n",
    "from math import asin,acos,atan,sqrt,sin,cos,tan,pi\n",
    "import classes\n",
    "from datetime import datetime\n",
    "import time\n",
    "from classes import *\n",
    "from tools import *\n",
    "from load import *\n",
    "import networkx as nx\n",
    "import itertools\n",
    "CAPACITY = 140\n",
    "[ls_site,ls_spot,ls_shop,ls_dorder,ls_otoorder,ls_courier] = LoadAll()\n",
    "num_dorder = len(ls_dorder)\n",
    "total_worker = 0\n",
    "cost = 0\n",
    "istart = 32\n",
    "iend = 33\n",
    "print type(ls_site)"
   ]
  }
 ],
 "metadata": {},
 "nbformat": 4,
 "nbformat_minor": 0
}
