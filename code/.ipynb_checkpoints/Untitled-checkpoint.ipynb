{
 "cells": [
  {
   "cell_type": "code",
   "execution_count": 2,
   "metadata": {
    "collapsed": false
   },
   "outputs": [
    {
     "name": "stdout",
     "output_type": "stream",
     "text": [
      "<type 'list'>\n"
     ]
    }
   ],
   "source": [
    "import csv\n",
    "from copy import copy\n",
    "import os\n",
    "from math import asin,acos,atan,sqrt,sin,cos,tan,pi\n",
    "import classes\n",
    "from datetime import datetime\n",
    "import time\n",
    "from classes import *\n",
    "from tools import *\n",
    "from load import *\n",
    "import networkx as nx\n",
    "import itertools\n",
    "CAPACITY = 140\n",
    "[ls_site,ls_spot,ls_shop,ls_dorder,ls_otoorder,ls_courier] = LoadAll()\n",
    "num_dorder = len(ls_dorder)\n",
    "total_worker = 0\n",
    "cost = 0\n",
    "istart = 32\n",
    "iend = 33\n",
    "print type(ls_site)"
   ]
  },
  {
   "cell_type": "code",
   "execution_count": 25,
   "metadata": {
    "collapsed": false
   },
   "outputs": [
    {
     "name": "stdout",
     "output_type": "stream",
     "text": [
      "{'B4713': 53, 'B5453': 49, 'B2946': 61, 'B0288': 39, 'B4207': 56, 'B8121': 58, 'B2027': 61, 'B0214': 21, 'B7888': 30, 'B3858': 51, 'B0587': 55}\n",
      "39\n"
     ]
    }
   ],
   "source": [
    "site = copy(ls_site[0])\n",
    "ls_spot_per_site = []\n",
    "ls_res = []\n",
    "temp_order = {}\n",
    "[ls_spot_per_site,temp_order] = FindSpotPerSite(site,ls_spot,ls_dorder)\n",
    "print temp_order \n",
    "print(temp_order.get(ls_spot_per_site[1].sid))\n",
    "csvfile = file(site.sid+'.csv', 'wb')"
   ]
  },
  {
   "cell_type": "code",
   "execution_count": 30,
   "metadata": {
    "collapsed": false
   },
   "outputs": [],
   "source": [
    "SpotDic = {site.sid : (site.lat , site .lng) for site in ls_spot}\n",
    "for i in range(0,len(ls_site)):\n",
    "    [ls_spot_per_site,temp_order] = FindSpotPerSite(ls_site[i],ls_spot,ls_dorder)\n",
    "    csvfile = file(ls_site[i].sid+'.csv', 'wb')\n",
    "    writer = csv.writer(csvfile)\n",
    "    writer.writerow(['id','lat','lng','Demand'])\n",
    "    writer.writerow([ls_site[i].sid, ls_site[i].lat, ls_site[i].lng, 0])\n",
    "    for j in range(0,len(temp_order)):\n",
    "        spotId = ls_spot_per_site[j].sid\n",
    "        position = SpotDic.get(spotId)\n",
    "        demand = temp_order.get(spotId)\n",
    "        writer.writerow([spotId, position[0],position[1], demand])\n",
    "    csvfile.close()\n",
    "                   \n",
    "    "
   ]
  },
  {
   "cell_type": "code",
   "execution_count": 18,
   "metadata": {
    "collapsed": false
   },
   "outputs": [],
   "source": [
    "import numpy as np\n",
    "sportArr = np.array([[spot.lat, spot.lng] for spot in ls_spot_per_site])"
   ]
  },
  {
   "cell_type": "code",
   "execution_count": null,
   "metadata": {
    "collapsed": false
   },
   "outputs": [],
   "source": [
    "from sklearn.neighbors import KDTree\n",
    "kdt = KDTree(sportArr, leaf_size = 30 ,metric = 'euclidean')\n",
    "neib = kdt.query(sportArr, k =10 , return_distance = False)\n",
    "neib\n",
    "##exmple of using kd tree to find knn points"
   ]
  },
  {
   "cell_type": "code",
   "execution_count": null,
   "metadata": {
    "collapsed": false
   },
   "outputs": [],
   "source": [
    "\n"
   ]
  },
  {
   "cell_type": "code",
   "execution_count": 34,
   "metadata": {
    "collapsed": false
   },
   "outputs": [
    {
     "name": "stdout",
     "output_type": "stream",
     "text": [
      "Testing 11 possible rotations for bounding box... \n",
      "\n"
     ]
    }
   ],
   "source": [
    "from qhull_2d import *\n",
    "from min_bounding_rect import *\n",
    "\n",
    "hullPoints = qhull2D(sportArr)\n",
    "hullPoints = hullPoints[::-1]\n",
    "(rot_angle ,area, width, height, center_point, corner_points) = minBoundingRect(hullPoints)\n"
   ]
  },
  {
   "cell_type": "code",
   "execution_count": 55,
   "metadata": {
    "collapsed": false
   },
   "outputs": [
    {
     "data": {
      "image/png": "[encoded data removed]",
      "text/plain": [
       "<matplotlib.figure.Figure at 0x7f9f59987190>"
      ]
     },
     "metadata": {},
     "output_type": "display_data"
    }
   ],
   "source": [
    "%matplotlib inline\n",
    "\n",
    "import matplotlib.pyplot as plt\n",
    "import matplotlib.patches as patches\n",
    "num = len (sportArr)\n",
    "x = []\n",
    "y = []\n",
    "for i in range(0,num):\n",
    "    x.append(sportArr[i][0])\n",
    "    y.append(sportArr[i][1])\n",
    "\n",
    "a=t.figure()\n",
    "plt.scatter(x,y,color = 'g')\n",
    "\n",
    "patches.Rectangle(center_point, width, height, rot_angle)\n",
    "\n",
    "plt.show()\n"
   ]
  }
 ],
 "metadata": {
  "kernelspec": {
   "display_name": "Python [Root]",
   "language": "python",
   "name": "Python [Root]"
  },
  "language_info": {
   "codemirror_mode": {
    "name": "ipython",
    "version": 2
   },
   "file_extension": ".py",
   "mimetype": "text/x-python",
   "name": "python",
   "nbconvert_exporter": "python",
   "pygments_lexer": "ipython2",
   "version": "2.7.12"
  }
 },
 "nbformat": 4,
 "nbformat_minor": 0
}
