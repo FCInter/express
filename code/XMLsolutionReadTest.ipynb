{
 "cells": [
  {
   "cell_type": "code",
   "execution_count": 135,
   "metadata": {
    "collapsed": false,
    "scrolled": true
   },
   "outputs": [
    {
     "name": "stdout",
     "output_type": "stream",
     "text": [
      "B0587\n",
      "B4713\n",
      "B8121\n",
      "B3858\n",
      "B7888\n",
      "B4207\n",
      "B2946\n",
      "B0288\n",
      "B0214\n",
      "B2027\n",
      "B5453\n"
     ]
    }
   ],
   "source": [
    "from xml.dom import minidom\n",
    "import csv\n",
    "from copy import copy\n",
    "import os\n",
    "from math import asin,acos,atan,sqrt,sin,cos,tan,pi\n",
    "import classes\n",
    "from datetime import datetime\n",
    "import time\n",
    "from classes import *\n",
    "from tools import *\n",
    "from load import *\n",
    "import networkx as nx\n",
    "import itertools\n",
    "CAPACITY = 140\n",
    "[ls_site,ls_spot,ls_shop,ls_dorder,ls_otoorder,ls_courier] = LoadAll()\n",
    "num_dorder = len(ls_dorder)\n",
    "total_worker = 0\n",
    "cost = 0\n",
    "istart = 32\n",
    "iend = 33\n",
    "\n",
    "def loadTime(demand):\n",
    "    return 3*sqrt(demand)+5\n",
    "[ls_site,ls_spot,ls_shop,ls_dorder,ls_otoorder,ls_courier] = LoadAll()\n",
    "num_dorder = len(ls_dorder)\n",
    "total_worker = 0\n",
    "cost = 0\n",
    "ls_dtask = []\n",
    "istart = 0\n",
    "iend = 300\n",
    "# ls_dtask = FindDTasks(ls_site,ls_spot,ls_shop,istart,iend,ls_dorder,CAPACITY)\n",
    "# print 'total_worker is ',total_worker\n",
    "# print 'total cost is ', cost\n",
    "# print 'ls_dtask is ', ls_dtask\n",
    "# ExportDTaskToCSV(ls_dtask,ls_site)\n",
    "ls_dtask = []\n",
    "ls_dtask = LoadDTaskFmCSV('../results/tempres/',ls_site,ls_spot,ls_shop)\n",
    "ls_oSite = GroupTasks(ls_site,ls_spot,ls_shop,ls_dtask,ls_otoorder)\n",
    "\n",
    "spotDic = {site.sid : (site.lat , site .lng) for site in ls_spot}\n",
    "shopDic = {shop.sid : (shop.lat, shop.lng) for shop in ls_shop}\n",
    "\n",
    "\n",
    "\n",
    "[ls_spot_per_site,temp_order] = FindSpotPerSite(ls_site[0],ls_spot,ls_dorder)\n",
    "doc = minidom.parse(\"../jsprit-solver/output/solutionA001_problem.xml\")\n",
    "solutions = doc.getElementsByTagName(\"solution\")\n",
    "Site_A001 =[]\n",
    "solution = solutions[0]\n",
    "routes = solution.getElementsByTagName('route')\n",
    "for i in range(0,len(routes)): \n",
    "    route = routes[i]\n",
    "    acts = route.getElementsByTagName(\"act\")\n",
    "    for act in acts :\n",
    "        Dtype = str(act.getAttribute('type'))\n",
    "        arrTime = float(act.getElementsByTagName('arrTime')[0].firstChild.data)\n",
    "        endTime = float(act.getElementsByTagName('endTime')[0].firstChild.data)\n",
    "        routeNum = i\n",
    "        if Dtype =='service':\n",
    "            SpotId = act.getElementsByTagName('serviceId')[0].firstChild.data\n",
    "            actDic = {'type':Dtype, 'Spotid':str(SpotId), \\\n",
    "                      'arrTime':arrTime, 'endTime':endTime}\n",
    "            print SpotId\n",
    "        else :\n",
    "            SpotId = act.getElementsByTagName('shipmentId')[0].firstChild.data\n",
    "            actDic = {'type':Dtype, 'Spotid':str(SpotId), 'arrTime':arrTime, 'endTime':endTime}\n",
    "        actDic.update({'routeNum':routeNum})\n",
    "        Site_A001.append(actDic)\n",
    "\n"
   ]
  },
  {
   "cell_type": "code",
   "execution_count": 136,
   "metadata": {
    "collapsed": false
   },
   "outputs": [
    {
     "data": {
      "text/plain": [
       "[{'Spotid': 'B0587',\n",
       "  'arrTime': 3.095043152437298,\n",
       "  'endTime': 30.343638613737298,\n",
       "  'routeNum': 0,\n",
       "  'type': 'service'},\n",
       " {'Spotid': 'B4713',\n",
       "  'arrTime': 31.120730600590882,\n",
       "  'endTime': 57.96106026839088,\n",
       "  'routeNum': 0,\n",
       "  'type': 'service'},\n",
       " {'Spotid': 'B8121',\n",
       "  'arrTime': 2.4807746581606027,\n",
       "  'endTime': 30.328093975760602,\n",
       "  'routeNum': 1,\n",
       "  'type': 'service'},\n",
       " {'Spotid': 'B3858',\n",
       "  'arrTime': 31.417764570563747,\n",
       "  'endTime': 57.84204985616375,\n",
       "  'routeNum': 1,\n",
       "  'type': 'service'},\n",
       " {'Spotid': 'B7888',\n",
       "  'arrTime': 59.50086586103289,\n",
       "  'endTime': 80.9325425862329,\n",
       "  'routeNum': 1,\n",
       "  'type': 'service'},\n",
       " {'Spotid': 'B4207',\n",
       "  'arrTime': 1.0200977677500143,\n",
       "  'endTime': 28.470042088350013,\n",
       "  'routeNum': 2,\n",
       "  'type': 'service'},\n",
       " {'Spotid': 'B2946',\n",
       "  'arrTime': 29.45752571066241,\n",
       "  'endTime': 57.88827473836241,\n",
       "  'routeNum': 2,\n",
       "  'type': 'service'},\n",
       " {'Spotid': 'B0288',\n",
       "  'arrTime': 1.1037044406843857,\n",
       "  'endTime': 24.838698435884385,\n",
       "  'routeNum': 3,\n",
       "  'type': 'service'},\n",
       " {'Spotid': 'B0214',\n",
       "  'arrTime': 27.518662664015384,\n",
       "  'endTime': 46.26638974891539,\n",
       "  'routeNum': 3,\n",
       "  'type': 'service'},\n",
       " {'Spotid': 'E1185',\n",
       "  'arrTime': 49.364505950475625,\n",
       "  'endTime': 224.0,\n",
       "  'routeNum': 3,\n",
       "  'type': 'pickupShipment'},\n",
       " {'Spotid': 'E1185',\n",
       "  'arrTime': 226.14692984630216,\n",
       "  'endTime': 234.14692984630216,\n",
       "  'routeNum': 3,\n",
       "  'type': 'deliverShipment'},\n",
       " {'Spotid': 'B2027',\n",
       "  'arrTime': 235.7540204511184,\n",
       "  'endTime': 264.1847694788184,\n",
       "  'routeNum': 3,\n",
       "  'type': 'service'},\n",
       " {'Spotid': 'B5453',\n",
       "  'arrTime': 0.09106981181927526,\n",
       "  'endTime': 26.091069811819274,\n",
       "  'routeNum': 4,\n",
       "  'type': 'service'}]"
      ]
     },
     "execution_count": 136,
     "metadata": {},
     "output_type": "execute_result"
    }
   ],
   "source": [
    "Site_A001\n",
    "\n",
    "\n",
    "\n"
   ]
  },
  {
   "cell_type": "code",
   "execution_count": 134,
   "metadata": {
    "collapsed": false
   },
   "outputs": [
    {
     "data": {
      "text/plain": [
       "2226.63640449287"
      ]
     },
     "execution_count": 134,
     "metadata": {},
     "output_type": "execute_result"
    }
   ],
   "source": [
    "Dist(Spot('a01',float(111),float(100)),Spot('a02',float(112),float(120)))"
   ]
  }
 ],
 "metadata": {
  "kernelspec": {
   "display_name": "Python [Root]",
   "language": "python",
   "name": "Python [Root]"
  },
  "language_info": {
   "codemirror_mode": {
    "name": "ipython",
    "version": 2
   },
   "file_extension": ".py",
   "mimetype": "text/x-python",
   "name": "python",
   "nbconvert_exporter": "python",
   "pygments_lexer": "ipython2",
   "version": "2.7.12"
  }
 },
 "nbformat": 4,
 "nbformat_minor": 0
}
