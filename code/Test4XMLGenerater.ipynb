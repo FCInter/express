{
 "cells": [
  {
   "cell_type": "code",
   "execution_count": 2,
   "metadata": {
    "collapsed": false
   },
   "outputs": [
    {
     "ename": "NameError",
     "evalue": "name 'LoadDTaskFmCSV' is not defined",
     "output_type": "error",
     "traceback": [
      "\u001b[1;31m---------------------------------------------------------------------------\u001b[0m",
      "\u001b[1;31mNameError\u001b[0m                                 Traceback (most recent call last)",
      "\u001b[1;32m<ipython-input-2-c1994f430b54>\u001b[0m in \u001b[0;36m<module>\u001b[1;34m()\u001b[0m\n\u001b[0;32m     34\u001b[0m \u001b[1;31m# ExportDTaskToCSV(ls_dtask,ls_site)\u001b[0m\u001b[1;33m\u001b[0m\u001b[1;33m\u001b[0m\u001b[0m\n\u001b[0;32m     35\u001b[0m \u001b[0mls_dtask\u001b[0m \u001b[1;33m=\u001b[0m \u001b[1;33m[\u001b[0m\u001b[1;33m]\u001b[0m\u001b[1;33m\u001b[0m\u001b[0m\n\u001b[1;32m---> 36\u001b[1;33m \u001b[0mls_dtask\u001b[0m \u001b[1;33m=\u001b[0m \u001b[0mLoadDTaskFmCSV\u001b[0m\u001b[1;33m(\u001b[0m\u001b[1;34m'../results/tempres/'\u001b[0m\u001b[1;33m,\u001b[0m\u001b[0mls_site\u001b[0m\u001b[1;33m,\u001b[0m\u001b[0mls_spot\u001b[0m\u001b[1;33m,\u001b[0m\u001b[0mls_shop\u001b[0m\u001b[1;33m)\u001b[0m\u001b[1;33m\u001b[0m\u001b[0m\n\u001b[0m\u001b[0;32m     37\u001b[0m \u001b[0mls_oSite\u001b[0m \u001b[1;33m=\u001b[0m \u001b[0mGroupTasks\u001b[0m\u001b[1;33m(\u001b[0m\u001b[0mls_site\u001b[0m\u001b[1;33m,\u001b[0m\u001b[0mls_spot\u001b[0m\u001b[1;33m,\u001b[0m\u001b[0mls_shop\u001b[0m\u001b[1;33m,\u001b[0m\u001b[0mls_dtask\u001b[0m\u001b[1;33m,\u001b[0m\u001b[0mls_otoorder\u001b[0m\u001b[1;33m)\u001b[0m\u001b[1;33m\u001b[0m\u001b[0m\n",
      "\u001b[1;31mNameError\u001b[0m: name 'LoadDTaskFmCSV' is not defined"
     ]
    }
   ],
   "source": [
    "import csv\n",
    "from copy import copy\n",
    "import os\n",
    "from math import asin,acos,atan,sqrt,sin,cos,tan,pi\n",
    "import classes\n",
    "from datetime import datetime\n",
    "import time\n",
    "from classes import *\n",
    "from tools import *\n",
    "from load import *\n",
    "import networkx as nx\n",
    "import itertools\n",
    "CAPACITY = 140\n",
    "[ls_site,ls_spot,ls_shop,ls_dorder,ls_otoorder,ls_courier] = LoadAll()\n",
    "num_dorder = len(ls_dorder)\n",
    "total_worker = 0\n",
    "cost = 0\n",
    "istart = 32\n",
    "iend = 33\n",
    "\n",
    "\n",
    "\n",
    "[ls_site,ls_spot,ls_shop,ls_dorder,ls_otoorder,ls_courier] = LoadAll()\n",
    "num_dorder = len(ls_dorder)\n",
    "total_worker = 0\n",
    "cost = 0\n",
    "ls_dtask = []\n",
    "istart = 0\n",
    "iend = 300\n",
    "# ls_dtask = FindDTasks(ls_site,ls_spot,ls_shop,istart,iend,ls_dorder,CAPACITY)\n",
    "# print 'total_worker is ',total_worker\n",
    "# print 'total cost is ', cost\n",
    "# print 'ls_dtask is ', ls_dtask\n",
    "# ExportDTaskToCSV(ls_dtask,ls_site)\n",
    "ls_dtask = []\n",
    "ls_dtask = LoadDTaskFmCSV('../results/tempres/',ls_site,ls_spot,ls_shop)\n",
    "ls_oSite = GroupTasks(ls_site,ls_spot,ls_shop,ls_dtask,ls_otoorder)\n"
   ]
  },
  {
   "cell_type": "code",
   "execution_count": null,
   "metadata": {
    "collapsed": true
   },
   "outputs": [],
   "source": []
  }
 ],
 "metadata": {
  "kernelspec": {
   "display_name": "Python [Root]",
   "language": "python",
   "name": "Python [Root]"
  },
  "language_info": {
   "codemirror_mode": {
    "name": "ipython",
    "version": 2
   },
   "file_extension": ".py",
   "mimetype": "text/x-python",
   "name": "python",
   "nbconvert_exporter": "python",
   "pygments_lexer": "ipython2",
   "version": "2.7.12"
  }
 },
 "nbformat": 4,
 "nbformat_minor": 0
}
